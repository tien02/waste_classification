{
 "cells": [
  {
   "cell_type": "code",
   "execution_count": 1,
   "metadata": {},
   "outputs": [],
   "source": [
    "import os\n",
    "\n",
    "from lightning.pytorch import Trainer, seed_everything\n",
    "from lightning.pytorch.loggers.tensorboard import TensorBoardLogger\n",
    "from lightning.pytorch.callbacks import ModelCheckpoint, EarlyStopping\n",
    "\n",
    "from src.dataset import TrashNet\n",
    "from src.models import get_model\n",
    "from src.trainer import WasteClassifier"
   ]
  },
  {
   "attachments": {},
   "cell_type": "markdown",
   "metadata": {},
   "source": [
    "# Configuration\n",
    "\n",
    "Setting this for your need"
   ]
  },
  {
   "cell_type": "code",
   "execution_count": 2,
   "metadata": {},
   "outputs": [],
   "source": [
    "class config:\n",
    "    SEED = 42\n",
    "    ACCELERATOR = \"gpu\"\n",
    "\n",
    "    # Trainer\n",
    "    EPOCHS = 200\n",
    "    BATCH_SIZE = 2\n",
    "    VAL_EACH_EPOCH = 2\n",
    "\n",
    "    # Data\n",
    "    DATA_DIR = \"./split_data\"\n",
    "\n",
    "    # Tensorboard\n",
    "    TENSORBOARD = {\n",
    "        \"DIR\": \"\",\n",
    "        \"NAME\": \"LOG\",\n",
    "        \"VERSION\": \"0\",\n",
    "    }\n",
    "\n",
    "    # Checkpoint\n",
    "    CHECKPOINT_DIR = os.path.join(TENSORBOARD[\"DIR\"], TENSORBOARD[\"NAME\"], TENSORBOARD[\"VERSION\"], \"CKPT\")\n",
    "\n",
    "    # ckpt path to test model\n",
    "    TEST_CKPT_PATH = None\n",
    "\n",
    "    # ckpt path to continue training\n",
    "    CONTINUE_TRAINING = None"
   ]
  },
  {
   "attachments": {},
   "cell_type": "markdown",
   "metadata": {},
   "source": [
    "# Train"
   ]
  },
  {
   "cell_type": "code",
   "execution_count": null,
   "metadata": {},
   "outputs": [],
   "source": [
    "seed_everything(config.SEED)\n",
    "\n",
    "model = get_model()\n",
    "system = WasteClassifier(model=model)\n",
    "\n",
    "dm = TrashNet(data_dir=config.DATA_DIR, batch_size=config.BATCH_SIZE)\n",
    "\n",
    "checkpoint_callback = ModelCheckpoint(dirpath= config.CHECKPOINT_DIR, monitor=\"val_loss\",\n",
    "                                        save_top_k=3, mode=\"min\")\n",
    "early_stopping = EarlyStopping(monitor=\"val_loss\", mode=\"min\")\n",
    "\n",
    "logger = TensorBoardLogger(save_dir=config.TENSORBOARD[\"DIR\"], name=config.TENSORBOARD[\"NAME\"], version=config.TENSORBOARD[\"VERSION\"])\n",
    "\n",
    "trainer = Trainer(accelerator=config.ACCELERATOR, check_val_every_n_epoch=config.VAL_EACH_EPOCH,\n",
    "                gradient_clip_val=1.0,max_epochs=config.EPOCHS,\n",
    "                enable_checkpointing=True, deterministic=True, default_root_dir=config.CHECKPOINT_DIR,\n",
    "                callbacks=[checkpoint_callback, early_stopping], logger=logger, accumulate_grad_batches=5, log_every_n_steps=10)\n",
    "\n",
    "trainer.fit(model=system, datamodule=dm, ckpt_path=config.CONTINUE_TRAINING)"
   ]
  },
  {
   "attachments": {},
   "cell_type": "markdown",
   "metadata": {},
   "source": [
    "# Test\n",
    "\n",
    "Set `config.TEST_CKPT_PATH` = path/to/your/chechpoint.ckpt"
   ]
  },
  {
   "cell_type": "code",
   "execution_count": null,
   "metadata": {},
   "outputs": [],
   "source": [
    "model = get_model()\n",
    "system = WasteClassifier(model=model)\n",
    "\n",
    "trainer.test(model=system, datamodule=dm, ckpt_path=config.TEST_CKPT_PATH)"
   ]
  },
  {
   "attachments": {},
   "cell_type": "markdown",
   "metadata": {},
   "source": [
    "# Export to ONNX"
   ]
  },
  {
   "cell_type": "code",
   "execution_count": null,
   "metadata": {},
   "outputs": [],
   "source": [
    "import torch\n",
    "from src.models import ConvNext\n",
    "from src.dataset import WasteDataset"
   ]
  },
  {
   "cell_type": "code",
   "execution_count": null,
   "metadata": {},
   "outputs": [],
   "source": [
    "# Path to ckpt\n",
    "path_to_ckpt = None"
   ]
  },
  {
   "cell_type": "code",
   "execution_count": null,
   "metadata": {},
   "outputs": [],
   "source": [
    "model = ConvNext(from_pretrained=False)\n",
    "system = WasteClassifier(model=model)\n",
    "\n",
    "ckpt = torch.load(path_to_ckpt, map_location='cpu')\n",
    "system.load_state_dict(ckpt['state_dict'])\n",
    "system.eval()\n",
    "print(\"Done\")"
   ]
  },
  {
   "cell_type": "code",
   "execution_count": null,
   "metadata": {},
   "outputs": [],
   "source": [
    "dataset = WasteDataset(root=config.DATA_DIR)\n",
    "for img, label in dataset:\n",
    "    print(img.size())\n",
    "    print(label)\n",
    "    break"
   ]
  },
  {
   "cell_type": "code",
   "execution_count": null,
   "metadata": {},
   "outputs": [],
   "source": [
    "system.to_onnx(\"model.onnx\", input_sample=img.unsqueeze(0))"
   ]
  }
 ],
 "metadata": {
  "kernelspec": {
   "display_name": "torch",
   "language": "python",
   "name": "python3"
  },
  "language_info": {
   "codemirror_mode": {
    "name": "ipython",
    "version": 3
   },
   "file_extension": ".py",
   "mimetype": "text/x-python",
   "name": "python",
   "nbconvert_exporter": "python",
   "pygments_lexer": "ipython3",
   "version": "3.10.6"
  },
  "orig_nbformat": 4
 },
 "nbformat": 4,
 "nbformat_minor": 2
}
